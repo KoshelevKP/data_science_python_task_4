{
 "cells": [
  {
   "cell_type": "code",
   "execution_count": 54,
   "metadata": {},
   "outputs": [],
   "source": [
    "from datetime import datetime\n",
    "from datetime import timedelta\n",
    "import calendar"
   ]
  },
  {
   "cell_type": "code",
   "execution_count": 55,
   "metadata": {},
   "outputs": [
    {
     "name": "stdout",
     "output_type": "stream",
     "text": [
      "['2018-01-01', '2018-01-02', '2018-01-03']\n"
     ]
    }
   ],
   "source": [
    "# Задание 1\n",
    "def time_range(start_date, end_date):\n",
    "    \n",
    "    start_date_datetime = datetime.strptime(start_date, '%Y-%m-%d')\n",
    "    end_date_datetime = datetime.strptime(end_date, '%Y-%m-%d')\n",
    "    \n",
    "    current_dt = start_date_datetime\n",
    "    \n",
    "    dates = list()\n",
    "\n",
    "    while current_dt <= end_date_datetime:\n",
    "        dates.append(current_dt.strftime('%Y-%m-%d'))\n",
    "    \n",
    "        current_dt += timedelta(days=1)\n",
    "        \n",
    "    return dates\n",
    "    \n",
    "\n",
    "print(time_range('2018-01-01', '2018-01-3'))"
   ]
  },
  {
   "cell_type": "code",
   "execution_count": 56,
   "metadata": {},
   "outputs": [
    {
     "name": "stdout",
     "output_type": "stream",
     "text": [
      "['2018-01-01', '2018-01-02', '2018-01-03']\n",
      "[]\n",
      "[]\n"
     ]
    }
   ],
   "source": [
    "# Задание 2\n",
    "def time_range(start_date, end_date):\n",
    "    \n",
    "    dates = list()\n",
    "    \n",
    "    try:\n",
    "        start_date_datetime = datetime.strptime(start_date, '%Y-%m-%d')\n",
    "        end_date_datetime = datetime.strptime(end_date, '%Y-%m-%d')\n",
    "        \n",
    "        current_dt = start_date_datetime\n",
    "        \n",
    "        if end_date_datetime > start_date_datetime:\n",
    "            while current_dt <= end_date_datetime:\n",
    "                dates.append(current_dt.strftime('%Y-%m-%d'))\n",
    "    \n",
    "                current_dt += timedelta(days=1)\n",
    "        return dates\n",
    "        \n",
    "    except:\n",
    "        \n",
    "        return dates\n",
    "    \n",
    "\n",
    "    \n",
    "print(time_range('2018-01-01', '2018-01-03'))\n",
    "print(time_range('2018-01-05', '2018a-01-3'))\n",
    "print(time_range('2018-01-01', '2018a-01-3'))"
   ]
  },
  {
   "cell_type": "code",
   "execution_count": 57,
   "metadata": {},
   "outputs": [
    {
     "name": "stdout",
     "output_type": "stream",
     "text": [
      "[True, False, False]\n"
     ]
    }
   ],
   "source": [
    "# Задание 3\n",
    "def check_dates(stream):\n",
    "    \n",
    "    resalts = list()\n",
    "    \n",
    "    for date in stream:\n",
    "        \n",
    "        try:\n",
    "            date_datetime = datetime.strptime(date, '%Y-%m-%d')\n",
    "            resalts.append(True)\n",
    "            \n",
    "        except:\n",
    "            resalts.append(False)\n",
    "            \n",
    "    return resalts\n",
    "            \n",
    "\n",
    "\n",
    "stream = ['2018-04-02', '2018-02-29', '2018-19-02']\n",
    "\n",
    "print(check_dates(stream))"
   ]
  },
  {
   "cell_type": "code",
   "execution_count": 58,
   "metadata": {},
   "outputs": [
    {
     "name": "stdout",
     "output_type": "stream",
     "text": [
      "['2019-03-12', '2019-03-11', '2019-03-10', '2019-03-09', '2019-03-08', '2019-03-07', '2019-03-06', '2019-03-05', '2019-03-04', '2019-03-03', '2019-03-02']\n"
     ]
    }
   ],
   "source": [
    "# Задание 4\n",
    "def days_list():\n",
    "\n",
    "    day = datetime.today()\n",
    "\n",
    "    day -= timedelta(days=1)\n",
    "\n",
    "    list_of_days = list()\n",
    "\n",
    "    while day.strftime('%d') != '01':\n",
    "        list_of_days.append(day.strftime('%Y-%m-%d'))\n",
    "        day -= timedelta(days=1)\n",
    "        \n",
    "    return list_of_days\n",
    "    \n",
    "print(days_list())"
   ]
  },
  {
   "cell_type": "code",
   "execution_count": 59,
   "metadata": {},
   "outputs": [
    {
     "name": "stdout",
     "output_type": "stream",
     "text": [
      "2019-03-13\n",
      "2019-03-11\n",
      "2019-03-31\n"
     ]
    }
   ],
   "source": [
    "# Задание 5\n",
    "def day_info(input_data):\n",
    "\n",
    "    day = datetime.today()\n",
    "\n",
    "    if input_data == 'today':\n",
    "        return day.strftime('%Y-%m-%d')\n",
    "\n",
    "    if input_data == 'last monday':\n",
    "        while day.strftime('%A') != 'Monday':\n",
    "            day -= timedelta(days=1)\n",
    "\n",
    "        return day.strftime('%Y-%m-%d')\n",
    "\n",
    "    if input_data == 'last day':\n",
    "        last_day = calendar.monthrange(day.year,day.month)[1]\n",
    "        while day.day != last_day:\n",
    "            day += timedelta(days=1)\n",
    "        \n",
    "        return day.strftime('%Y-%m-%d')\n",
    "\n",
    "print(day_info('today'))\n",
    "print(day_info('last monday'))\n",
    "print(day_info('last day'))\n"
   ]
  },
  {
   "cell_type": "code",
   "execution_count": null,
   "metadata": {},
   "outputs": [],
   "source": []
  }
 ],
 "metadata": {
  "kernelspec": {
   "display_name": "Python 3",
   "language": "python",
   "name": "python3"
  },
  "language_info": {
   "codemirror_mode": {
    "name": "ipython",
    "version": 3
   },
   "file_extension": ".py",
   "mimetype": "text/x-python",
   "name": "python",
   "nbconvert_exporter": "python",
   "pygments_lexer": "ipython3",
   "version": "3.6.5"
  }
 },
 "nbformat": 4,
 "nbformat_minor": 2
}
